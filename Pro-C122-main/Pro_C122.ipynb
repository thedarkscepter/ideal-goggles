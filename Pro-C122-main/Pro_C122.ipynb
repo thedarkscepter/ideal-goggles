{
  "nbformat": 4,
  "nbformat_minor": 0,
  "metadata": {
    "colab": {
      "name": "Pro-C122.ipynb",
      "provenance": [],
      "collapsed_sections": [],
      "authorship_tag": "ABX9TyM9xGZFoBcC2trPhE8wv1HI",
      "include_colab_link": true
    },
    "kernelspec": {
      "name": "python3",
      "display_name": "Python 3"
    }
  },
  "cells": [
    {
      "cell_type": "markdown",
      "metadata": {
        "id": "view-in-github",
        "colab_type": "text"
      },
      "source": [
        "<a href=\"https://colab.research.google.com/github/Daksh0211/Pro-C122/blob/main/Pro_C122.ipynb\" target=\"_parent\"><img src=\"https://colab.research.google.com/assets/colab-badge.svg\" alt=\"Open In Colab\"/></a>"
      ]
    },
    {
      "cell_type": "code",
      "metadata": {
        "id": "TpEyZXPTBpIm"
      },
      "source": [
        "import cv2 \n",
        "import numpy as np\n",
        "import pandas as pd\n",
        "import seaborn as sns\n",
        "import matplotlib.pyplot as plt \n",
        "from sklearn.datasets import fetch_openml\n",
        "from sklearn.model_selection import train_test_split\n",
        "from sklearn.linear_model import LogisticRegression\n",
        "from sklearn.metrics import accuracy_score"
      ],
      "execution_count": 1,
      "outputs": []
    },
    {
      "cell_type": "code",
      "metadata": {
        "id": "5HGC2tbaBurF",
        "outputId": "c81093da-fb79-4c57-cee7-85116be43f81",
        "colab": {
          "base_uri": "https://localhost:8080/",
          "height": 204
        }
      },
      "source": [
        "X,y=fetch_openml('mnist_784',version=1,return_X_y=True)\n",
        "print(pd.Series(y).value_counts())\n",
        "classes=['A','B','C','D','E','F','G','H','I','J','K','L','M','N','O','P','Q','R','S','T','U','V','W','X','Y','Z'],\n",
        "nclasses=len(classes)"
      ],
      "execution_count": 2,
      "outputs": [
        {
          "output_type": "stream",
          "text": [
            "1    7877\n",
            "7    7293\n",
            "3    7141\n",
            "2    6990\n",
            "9    6958\n",
            "0    6903\n",
            "6    6876\n",
            "8    6825\n",
            "4    6824\n",
            "5    6313\n",
            "dtype: int64\n"
          ],
          "name": "stdout"
        }
      ]
    },
    {
      "cell_type": "code",
      "metadata": {
        "id": "yMdllfOZCFg4",
        "outputId": "30fde4f1-019c-4d38-85db-4c0c4abd62e0",
        "colab": {
          "base_uri": "https://localhost:8080/",
          "height": 337
        }
      },
      "source": [
        "samples_per_class=26\n",
        "figure=plt.figure(figsize=(nclasses*2,(1+samples_per_class*2)))\n",
        "idx_cls=0\n",
        "for cls in classes:\n",
        "  idxs=np.flatnonzero(y==cls)\n",
        "  idxs=np.random.choice(idxs,samples_per_class,replace=False)\n",
        "  i=0\n",
        "  for idx in idxs:\n",
        "    plt_idx=i*nclasses+idx_cls+1\n",
        "    p=plt.subplot(samples_per_class,nclasses,plt_idx);\n",
        "    p=sns.heatmap(np.reshape(X[idx],(28,28)),cmap=plt.cm.gray,xticklabels=False,yticklabels=False,cbar=False);\n",
        "    p=plt.axis('off');\n",
        "    i+= 1\n",
        "  idx_cls+= 1\n",
        "  print(len(X))\n",
        "  print(len(X[0]))"
      ],
      "execution_count": 4,
      "outputs": [
        {
          "output_type": "stream",
          "text": [
            "/usr/local/lib/python3.6/dist-packages/ipykernel_launcher.py:5: FutureWarning: elementwise comparison failed; returning scalar instead, but in the future will perform elementwise comparison\n",
            "  \"\"\"\n"
          ],
          "name": "stderr"
        },
        {
          "output_type": "error",
          "ename": "ValueError",
          "evalue": "ignored",
          "traceback": [
            "\u001b[0;31m---------------------------------------------------------------------------\u001b[0m",
            "\u001b[0;31mValueError\u001b[0m                                Traceback (most recent call last)",
            "\u001b[0;32m<ipython-input-4-f2cb7fb89b40>\u001b[0m in \u001b[0;36m<module>\u001b[0;34m()\u001b[0m\n\u001b[1;32m      4\u001b[0m \u001b[0;32mfor\u001b[0m \u001b[0mcls\u001b[0m \u001b[0;32min\u001b[0m \u001b[0mclasses\u001b[0m\u001b[0;34m:\u001b[0m\u001b[0;34m\u001b[0m\u001b[0;34m\u001b[0m\u001b[0m\n\u001b[1;32m      5\u001b[0m   \u001b[0midxs\u001b[0m\u001b[0;34m=\u001b[0m\u001b[0mnp\u001b[0m\u001b[0;34m.\u001b[0m\u001b[0mflatnonzero\u001b[0m\u001b[0;34m(\u001b[0m\u001b[0my\u001b[0m\u001b[0;34m==\u001b[0m\u001b[0mcls\u001b[0m\u001b[0;34m)\u001b[0m\u001b[0;34m\u001b[0m\u001b[0;34m\u001b[0m\u001b[0m\n\u001b[0;32m----> 6\u001b[0;31m   \u001b[0midxs\u001b[0m\u001b[0;34m=\u001b[0m\u001b[0mnp\u001b[0m\u001b[0;34m.\u001b[0m\u001b[0mrandom\u001b[0m\u001b[0;34m.\u001b[0m\u001b[0mchoice\u001b[0m\u001b[0;34m(\u001b[0m\u001b[0midxs\u001b[0m\u001b[0;34m,\u001b[0m\u001b[0msamples_per_class\u001b[0m\u001b[0;34m,\u001b[0m\u001b[0mreplace\u001b[0m\u001b[0;34m=\u001b[0m\u001b[0;32mFalse\u001b[0m\u001b[0;34m)\u001b[0m\u001b[0;34m\u001b[0m\u001b[0;34m\u001b[0m\u001b[0m\n\u001b[0m\u001b[1;32m      7\u001b[0m   \u001b[0mi\u001b[0m\u001b[0;34m=\u001b[0m\u001b[0;36m0\u001b[0m\u001b[0;34m\u001b[0m\u001b[0;34m\u001b[0m\u001b[0m\n\u001b[1;32m      8\u001b[0m   \u001b[0;32mfor\u001b[0m \u001b[0midx\u001b[0m \u001b[0;32min\u001b[0m \u001b[0midxs\u001b[0m\u001b[0;34m:\u001b[0m\u001b[0;34m\u001b[0m\u001b[0;34m\u001b[0m\u001b[0m\n",
            "\u001b[0;32mmtrand.pyx\u001b[0m in \u001b[0;36mnumpy.random.mtrand.RandomState.choice\u001b[0;34m()\u001b[0m\n",
            "\u001b[0;31mValueError\u001b[0m: 'a' cannot be empty unless no samples are taken"
          ]
        },
        {
          "output_type": "display_data",
          "data": {
            "text/plain": [
              "<Figure size 144x3816 with 0 Axes>"
            ]
          },
          "metadata": {
            "tags": []
          }
        }
      ]
    },
    {
      "cell_type": "code",
      "metadata": {
        "id": "VhP9mX30CFxI"
      },
      "source": [
        "X_train,X_test,y_train, y_test=train_test_split(X,y,random_state=0,train_size=7500,test_size=2500)\n",
        "X_train_scaled=X_train/255.0\n",
        "X_test_scaled=X_test/255.0\n",
        "clf=LogisticRegression(solver='saga',multi_class='multinomial').fit(X_train_scaled,y_train)"
      ],
      "execution_count": null,
      "outputs": []
    },
    {
      "cell_type": "code",
      "metadata": {
        "id": "eZf_ZZECCF_W"
      },
      "source": [
        "y_pred=clf.predict(X_test_scaled)\n",
        "accuracy=accuracy_score(y_test,y_pred)\n",
        "print(accuracy)"
      ],
      "execution_count": null,
      "outputs": []
    },
    {
      "cell_type": "code",
      "metadata": {
        "id": "OrY0Ax5iCYWw"
      },
      "source": [
        "cm=pd.crosstab(y_test,y_pred,rownames=['Actual'],colnames=['Predicted'])\n",
        "p=plt.figure(figsize=(10,10))\n",
        "p=sns.heatmap(cm,annot=True,fmt=\"d\",cbar=False)\n"
      ],
      "execution_count": null,
      "outputs": []
    }
  ]
}